{
 "cells": [
  {
   "cell_type": "code",
   "execution_count": 1,
   "metadata": {},
   "outputs": [],
   "source": [
    "from scipy.stats import chi2_contingency\n",
    "import numpy as np\n",
    "import pandas as pd"
   ]
  },
  {
   "cell_type": "markdown",
   "metadata": {},
   "source": [
    "#### Chisquare test for Independence"
   ]
  },
  {
   "cell_type": "code",
   "execution_count": 2,
   "metadata": {},
   "outputs": [
    {
     "name": "stdout",
     "output_type": "stream",
     "text": [
      "Purchase  Non-Organic  Organic\n",
      "Gender                        \n",
      "Female              2        2\n",
      "Male                2        2\n",
      "Chi-Square Statistic: 0.0\n",
      "P-Value: 1.0\n",
      "Fail to reject the null hypothesis: No significant relationship.\n"
     ]
    }
   ],
   "source": [
    "# Create a contingency table (frequency counts of categorical variables)\n",
    "data = pd.DataFrame({\n",
    "    'Gender': ['Male', 'Male', 'Female', 'Female', 'Male', 'Female', 'Male', 'Female'],\n",
    "    'Purchase': ['Organic', 'Non-Organic', 'Organic', 'Non-Organic', 'Non-Organic', 'Organic', 'Organic', 'Non-Organic']\n",
    "})\n",
    "\n",
    "# Create a cross-tabulation table\n",
    "contingency_table = pd.crosstab(data['Gender'], data['Purchase'])\n",
    "print(contingency_table)\n",
    "# Perform Chi-Square test for independence\n",
    "chi2, p_value, dof, expected = chi2_contingency(contingency_table)\n",
    "\n",
    "print(f\"Chi-Square Statistic: {chi2}\")\n",
    "print(f\"P-Value: {p_value}\")\n",
    "\n",
    "if p_value < 0.05:\n",
    "    print(\"Reject the null hypothesis: Gender and purchasing preference are dependent.\")\n",
    "else:\n",
    "    print(\"Fail to reject the null hypothesis: No significant relationship.\")\n"
   ]
  },
  {
   "cell_type": "markdown",
   "metadata": {},
   "source": [
    "#### Notes\n",
    "1. Expected frequency is calculated as E[i][j]=(row_total*col_total)/grand_total\n",
    "2. Observed frequency is the number in the contigency table i.e. O[i][j]=2 ## For female non-organic\n",
    "3. chisquare stastic is given as summation((O[i][j]-E[i][j])/E[i][j])\n",
    "##### Consider the above table\n",
    "1.  E[1][1]=4*4/8=2 and this is same for every cell \n",
    "2.  O[i][j] for i, j is equal to 2 as we can see. \n",
    "#### Hence our chisquare will be equal to 0 and p-value would be 1.0 ."
   ]
  },
  {
   "cell_type": "markdown",
   "metadata": {},
   "source": [
    "#### Chisuqare Goodness of fit test "
   ]
  },
  {
   "cell_type": "code",
   "execution_count": 3,
   "metadata": {},
   "outputs": [
    {
     "name": "stdout",
     "output_type": "stream",
     "text": [
      "Chi-Square Statistic: 5.722222222222221\n",
      "P-Value: 0.45501499186838734\n",
      "Fail to reject the null hypothesis: No significant difference in traffic distribution.\n"
     ]
    }
   ],
   "source": [
    "from scipy.stats import chisquare\n",
    "\n",
    "# Observed visitor counts (actual data)\n",
    "observed_visitors = [120, 130, 140, 125, 135, 110, 140]\n",
    "\n",
    "# Expected visitor counts (if traffic were equal)\n",
    "expected_visitors = [sum(observed_visitors)/7] * 7\n",
    "\n",
    "# Perform Chi-Square goodness-of-fit test\n",
    "chi2, p_value = chisquare(observed_visitors, expected_visitors)\n",
    "\n",
    "print(f\"Chi-Square Statistic: {chi2}\")\n",
    "print(f\"P-Value: {p_value}\")\n",
    "\n",
    "if p_value < 0.05:\n",
    "    print(\"Reject the null hypothesis: Website traffic is not evenly distributed.\")\n",
    "else:\n",
    "    print(\"Fail to reject the null hypothesis: No significant difference in traffic distribution.\")\n"
   ]
  },
  {
   "cell_type": "markdown",
   "metadata": {},
   "source": [
    "##### One Sample T-Test \n",
    "##### Comparing a Sample Mean to a Known Value"
   ]
  },
  {
   "cell_type": "code",
   "execution_count": 4,
   "metadata": {},
   "outputs": [
    {
     "name": "stdout",
     "output_type": "stream",
     "text": [
      "T-Statistic: -2.5205041512504156, P-Value: 0.04525626534780619\n",
      "Reject the null hypothesis: The new optimization significantly reduces load time.\n"
     ]
    }
   ],
   "source": [
    "from scipy.stats import ttest_1samp\n",
    "\n",
    "# Sample website load times after optimization\n",
    "sample_data = np.array([2.8, 2.7, 3.1, 2.9, 2.6, 3.0, 2.7])\n",
    "\n",
    "# Perform one-sample t-test\n",
    "stat, p_value = ttest_1samp(sample_data, 3) #here 3 is mean\n",
    "\n",
    "print(f\"T-Statistic: {stat}, P-Value: {p_value}\")\n",
    "\n",
    "if p_value < 0.05:\n",
    "    print(\"Reject the null hypothesis: The new optimization significantly reduces load time.\")\n",
    "else:\n",
    "    print(\"Fail to reject the null hypothesis: No significant improvement in load time.\")\n"
   ]
  },
  {
   "cell_type": "markdown",
   "metadata": {},
   "source": [
    "##### 2-sample Independent T-Test\n",
    "##### Assumptions\n",
    "1. Normality\n",
    "2. Equal Variance (set equal_var=True/False) based on whether two samples have same variance or not\n",
    "3. Two samples must be independent"
   ]
  },
  {
   "cell_type": "code",
   "execution_count": 5,
   "metadata": {},
   "outputs": [
    {
     "name": "stdout",
     "output_type": "stream",
     "text": [
      "T-Statistic: -8.16496580927726, P-Value: 1.0789760448977756e-06\n",
      "Reject the null hypothesis: The campaigns have significantly different performances.\n"
     ]
    }
   ],
   "source": [
    "from scipy.stats import ttest_ind\n",
    "\n",
    "# Engagement scores for two marketing campaigns\n",
    "campaign_A = [50, 55, 53, 57, 54, 51, 56, 52]\n",
    "campaign_B = [60, 65, 62, 67, 64, 61, 66, 63]\n",
    "\n",
    "# Perform independent t-test\n",
    "stat, p_value = ttest_ind(campaign_A, campaign_B, equal_var=True)\n",
    "\n",
    "print(f\"T-Statistic: {stat}, P-Value: {p_value}\")\n",
    "\n",
    "if p_value < 0.05:\n",
    "    print(\"Reject the null hypothesis: The campaigns have significantly different performances.\")\n",
    "else:\n",
    "    print(\"Fail to reject the null hypothesis: No significant difference in campaign performance.\")\n"
   ]
  },
  {
   "cell_type": "markdown",
   "metadata": {},
   "source": [
    "##### Paired- Dependent T-test (After/Before)"
   ]
  },
  {
   "cell_type": "code",
   "execution_count": 6,
   "metadata": {},
   "outputs": [
    {
     "name": "stdout",
     "output_type": "stream",
     "text": [
      "T-Statistic: 8.694826047713663, P-Value: 0.0001278167558329041\n",
      "Reject the null hypothesis: The drug has a significant effect on blood pressure.\n"
     ]
    }
   ],
   "source": [
    "from scipy.stats import ttest_rel\n",
    "\n",
    "# Blood pressure before and after treatment\n",
    "before_treatment = [140, 138, 145, 142, 150, 147, 139]\n",
    "after_treatment = [135, 130, 140, 136, 142, 144, 132]\n",
    "\n",
    "# Perform paired t-test\n",
    "stat, p_value = ttest_rel(before_treatment, after_treatment)\n",
    "\n",
    "print(f\"T-Statistic: {stat}, P-Value: {p_value}\")\n",
    "\n",
    "if p_value < 0.05:\n",
    "    print(\"Reject the null hypothesis: The drug has a significant effect on blood pressure.\")\n",
    "else:\n",
    "    print(\"Fail to reject the null hypothesis: The drug has no significant effect.\")\n"
   ]
  },
  {
   "cell_type": "code",
   "execution_count": null,
   "metadata": {},
   "outputs": [],
   "source": []
  }
 ],
 "metadata": {
  "kernelspec": {
   "display_name": "base",
   "language": "python",
   "name": "python3"
  },
  "language_info": {
   "codemirror_mode": {
    "name": "ipython",
    "version": 3
   },
   "file_extension": ".py",
   "mimetype": "text/x-python",
   "name": "python",
   "nbconvert_exporter": "python",
   "pygments_lexer": "ipython3",
   "version": "3.12.4"
  }
 },
 "nbformat": 4,
 "nbformat_minor": 2
}
